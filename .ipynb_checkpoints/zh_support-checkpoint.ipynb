{
 "cells": [
  {
   "cell_type": "code",
   "execution_count": 7,
   "metadata": {
    "collapsed": true
   },
   "outputs": [],
   "source": [
    "#!/usr/bin/python\n",
    "# -*- coding: utf-8 -*-\n",
    "#coding:utf-8\n",
    "import matplotlib.pyplot as plt\n",
    "from matplotlib.font_manager import FontProperties\n",
    "\n",
    "ChineseFont1 = FontProperties(fname = 'C:\\\\Windows\\\\Fonts\\\\simsun.ttc')\n",
    "ChineseFont2 = FontProperties('SimHei')"
   ]
  },
  {
   "cell_type": "code",
   "execution_count": 13,
   "metadata": {
    "collapsed": true
   },
   "outputs": [],
   "source": [
    "import os"
   ]
  },
  {
   "cell_type": "code",
   "execution_count": 14,
   "metadata": {
    "collapsed": true
   },
   "outputs": [],
   "source": [
    "import shutil"
   ]
  },
  {
   "cell_type": "code",
   "execution_count": null,
   "metadata": {
    "collapsed": true
   },
   "outputs": [],
   "source": [
    "shutil.copy2"
   ]
  },
  {
   "cell_type": "code",
   "execution_count": 17,
   "metadata": {},
   "outputs": [
    {
     "data": {
      "text/plain": [
       "'matplotlib.pyplot'"
      ]
     },
     "execution_count": 17,
     "metadata": {},
     "output_type": "execute_result"
    }
   ],
   "source": [
    "plt.__name__"
   ]
  },
  {
   "cell_type": "code",
   "execution_count": 22,
   "metadata": {},
   "outputs": [
    {
     "data": {
      "text/plain": [
       "['Annotation',\n",
       " 'Arrow',\n",
       " 'Artist',\n",
       " 'AutoLocator',\n",
       " 'Axes',\n",
       " 'Button',\n",
       " 'Circle',\n",
       " 'Figure',\n",
       " 'FigureCanvasBase',\n",
       " 'FixedFormatter',\n",
       " 'FixedLocator',\n",
       " 'FormatStrFormatter',\n",
       " 'Formatter',\n",
       " 'FuncFormatter',\n",
       " 'GridSpec',\n",
       " 'IndexLocator',\n",
       " 'Line2D',\n",
       " 'LinearLocator',\n",
       " 'Locator',\n",
       " 'LogFormatter',\n",
       " 'LogFormatterExponent',\n",
       " 'LogFormatterMathtext',\n",
       " 'LogLocator',\n",
       " 'MaxNLocator',\n",
       " 'MultipleLocator',\n",
       " 'Normalize',\n",
       " 'NullFormatter',\n",
       " 'NullLocator',\n",
       " 'PolarAxes',\n",
       " 'Polygon',\n",
       " 'Rectangle',\n",
       " 'ScalarFormatter',\n",
       " 'Slider',\n",
       " 'Subplot',\n",
       " 'SubplotTool',\n",
       " 'Text',\n",
       " 'TickHelper',\n",
       " 'Widget',\n",
       " '_INSTALL_FIG_OBSERVER',\n",
       " '_IP_REGISTERED',\n",
       " '__builtins__',\n",
       " '__doc__',\n",
       " '__file__',\n",
       " '__name__',\n",
       " '__package__',\n",
       " '_auto_draw_if_interactive',\n",
       " '_autogen_docstring',\n",
       " '_backend_mod',\n",
       " '_backend_selection',\n",
       " '_hold_msg',\n",
       " '_imread',\n",
       " '_imsave',\n",
       " '_interactive_bk',\n",
       " '_pylab_helpers',\n",
       " '_setp',\n",
       " '_setup_pyplot_info_docstrings',\n",
       " '_show',\n",
       " '_string_to_bool',\n",
       " 'absolute_import',\n",
       " 'acorr',\n",
       " 'angle_spectrum',\n",
       " 'annotate',\n",
       " 'arrow',\n",
       " 'autoscale',\n",
       " 'autumn',\n",
       " 'axes',\n",
       " 'axhline',\n",
       " 'axhspan',\n",
       " 'axis',\n",
       " 'axvline',\n",
       " 'axvspan',\n",
       " 'bar',\n",
       " 'barbs',\n",
       " 'barh',\n",
       " 'bone',\n",
       " 'box',\n",
       " 'boxplot',\n",
       " 'broken_barh',\n",
       " 'cla',\n",
       " 'clabel',\n",
       " 'clf',\n",
       " 'clim',\n",
       " 'close',\n",
       " 'cm',\n",
       " 'cohere',\n",
       " 'colorbar',\n",
       " 'colormaps',\n",
       " 'colors',\n",
       " 'connect',\n",
       " 'contour',\n",
       " 'contourf',\n",
       " 'cool',\n",
       " 'copper',\n",
       " 'csd',\n",
       " 'cycler',\n",
       " 'dedent',\n",
       " 'delaxes',\n",
       " 'deprecated',\n",
       " 'disconnect',\n",
       " 'division',\n",
       " 'docstring',\n",
       " 'draw',\n",
       " 'draw_all',\n",
       " 'draw_if_interactive',\n",
       " 'errorbar',\n",
       " 'eventplot',\n",
       " 'figaspect',\n",
       " 'figimage',\n",
       " 'figlegend',\n",
       " 'fignum_exists',\n",
       " 'figtext',\n",
       " 'figure',\n",
       " 'fill',\n",
       " 'fill_between',\n",
       " 'fill_betweenx',\n",
       " 'findobj',\n",
       " 'flag',\n",
       " 'gca',\n",
       " 'gcf',\n",
       " 'gci',\n",
       " 'get',\n",
       " 'get_backend',\n",
       " 'get_cmap',\n",
       " 'get_current_fig_manager',\n",
       " 'get_figlabels',\n",
       " 'get_fignums',\n",
       " 'get_plot_commands',\n",
       " 'get_scale_docs',\n",
       " 'get_scale_names',\n",
       " 'getp',\n",
       " 'ginput',\n",
       " 'gray',\n",
       " 'grid',\n",
       " 'hexbin',\n",
       " 'hist',\n",
       " 'hist2d',\n",
       " 'hlines',\n",
       " 'hold',\n",
       " 'hot',\n",
       " 'hsv',\n",
       " 'imread',\n",
       " 'imsave',\n",
       " 'imshow',\n",
       " 'inferno',\n",
       " 'install_repl_displayhook',\n",
       " 'interactive',\n",
       " 'ioff',\n",
       " 'ion',\n",
       " 'is_numlike',\n",
       " 'is_string_like',\n",
       " 'ishold',\n",
       " 'isinteractive',\n",
       " 'jet',\n",
       " 'legend',\n",
       " 'locator_params',\n",
       " 'loglog',\n",
       " 'magma',\n",
       " 'magnitude_spectrum',\n",
       " 'margins',\n",
       " 'matplotlib',\n",
       " 'matshow',\n",
       " 'minorticks_off',\n",
       " 'minorticks_on',\n",
       " 'mlab',\n",
       " 'new_figure_manager',\n",
       " 'nipy_spectral',\n",
       " 'np',\n",
       " 'over',\n",
       " 'pause',\n",
       " 'pcolor',\n",
       " 'pcolormesh',\n",
       " 'phase_spectrum',\n",
       " 'pie',\n",
       " 'pink',\n",
       " 'plasma',\n",
       " 'plot',\n",
       " 'plot_date',\n",
       " 'plotfile',\n",
       " 'plotting',\n",
       " 'polar',\n",
       " 'print_function',\n",
       " 'prism',\n",
       " 'psd',\n",
       " 'pylab_setup',\n",
       " 'quiver',\n",
       " 'quiverkey',\n",
       " 'rc',\n",
       " 'rcParams',\n",
       " 'rcParamsDefault',\n",
       " 'rc_context',\n",
       " 'rcdefaults',\n",
       " 'register_cmap',\n",
       " 'rgrids',\n",
       " 'savefig',\n",
       " 'sca',\n",
       " 'scatter',\n",
       " 'sci',\n",
       " 'semilogx',\n",
       " 'semilogy',\n",
       " 'set_cmap',\n",
       " 'setp',\n",
       " 'show',\n",
       " 'silent_list',\n",
       " 'six',\n",
       " 'specgram',\n",
       " 'spectral',\n",
       " 'spring',\n",
       " 'spy',\n",
       " 'stackplot',\n",
       " 'stem',\n",
       " 'step',\n",
       " 'streamplot',\n",
       " 'style',\n",
       " 'subplot',\n",
       " 'subplot2grid',\n",
       " 'subplot_tool',\n",
       " 'subplots',\n",
       " 'subplots_adjust',\n",
       " 'summer',\n",
       " 'suptitle',\n",
       " 'switch_backend',\n",
       " 'sys',\n",
       " 'table',\n",
       " 'text',\n",
       " 'thetagrids',\n",
       " 'tick_params',\n",
       " 'ticklabel_format',\n",
       " 'tight_layout',\n",
       " 'title',\n",
       " 'tricontour',\n",
       " 'tricontourf',\n",
       " 'tripcolor',\n",
       " 'triplot',\n",
       " 'twinx',\n",
       " 'twiny',\n",
       " 'types',\n",
       " 'unicode_literals',\n",
       " 'uninstall_repl_displayhook',\n",
       " 'violinplot',\n",
       " 'viridis',\n",
       " 'vlines',\n",
       " 'waitforbuttonpress',\n",
       " 'warnings',\n",
       " 'winter',\n",
       " 'xcorr',\n",
       " 'xkcd',\n",
       " 'xlabel',\n",
       " 'xlim',\n",
       " 'xscale',\n",
       " 'xticks',\n",
       " 'ylabel',\n",
       " 'ylim',\n",
       " 'yscale',\n",
       " 'yticks']"
      ]
     },
     "execution_count": 22,
     "metadata": {},
     "output_type": "execute_result"
    }
   ],
   "source": [
    "dir(plt)"
   ]
  },
  {
   "cell_type": "code",
   "execution_count": 56,
   "metadata": {},
   "outputs": [
    {
     "data": {
      "text/plain": [
       "False"
      ]
     },
     "execution_count": 56,
     "metadata": {},
     "output_type": "execute_result"
    }
   ],
   "source": [
    "isinstance(\"我\",unicode)"
   ]
  },
  {
   "cell_type": "code",
   "execution_count": 58,
   "metadata": {
    "collapsed": true
   },
   "outputs": [],
   "source": [
    "a = \"我\""
   ]
  },
  {
   "cell_type": "code",
   "execution_count": 59,
   "metadata": {},
   "outputs": [
    {
     "data": {
      "text/plain": [
       "u'\\u6211'"
      ]
     },
     "execution_count": 59,
     "metadata": {},
     "output_type": "execute_result"
    }
   ],
   "source": [
    "a.decode('utf-8')"
   ]
  },
  {
   "cell_type": "code",
   "execution_count": 60,
   "metadata": {},
   "outputs": [
    {
     "ename": "UnicodeDecodeError",
     "evalue": "'gbk' codec can't decode byte 0x91 in position 2: incomplete multibyte sequence",
     "output_type": "error",
     "traceback": [
      "\u001b[0;31m---------------------------------------------------------------------------\u001b[0m",
      "\u001b[0;31mUnicodeDecodeError\u001b[0m                        Traceback (most recent call last)",
      "\u001b[0;32m<ipython-input-60-54dbff82c83a>\u001b[0m in \u001b[0;36m<module>\u001b[0;34m()\u001b[0m\n\u001b[0;32m----> 1\u001b[0;31m \u001b[0ma\u001b[0m\u001b[0;34m.\u001b[0m\u001b[0mdecode\u001b[0m\u001b[0;34m(\u001b[0m\u001b[0;34m\"gbk\"\u001b[0m\u001b[0;34m)\u001b[0m\u001b[0;34m\u001b[0m\u001b[0m\n\u001b[0m",
      "\u001b[0;31mUnicodeDecodeError\u001b[0m: 'gbk' codec can't decode byte 0x91 in position 2: incomplete multibyte sequence"
     ]
    }
   ],
   "source": [
    "a.decode(\"gbk\")"
   ]
  },
  {
   "cell_type": "code",
   "execution_count": 57,
   "metadata": {},
   "outputs": [
    {
     "data": {
      "text/plain": [
       "True"
      ]
     },
     "execution_count": 57,
     "metadata": {},
     "output_type": "execute_result"
    }
   ],
   "source": [
    "isinstance(u\"我\",unicode)"
   ]
  },
  {
   "cell_type": "code",
   "execution_count": 177,
   "metadata": {},
   "outputs": [],
   "source": [
    "import os"
   ]
  },
  {
   "cell_type": "code",
   "execution_count": 179,
   "metadata": {},
   "outputs": [
    {
     "data": {
      "text/plain": [
       "'/Users/MacBook'"
      ]
     },
     "execution_count": 179,
     "metadata": {},
     "output_type": "execute_result"
    }
   ],
   "source": [
    "os.path.expanduser('~')"
   ]
  },
  {
   "cell_type": "code",
   "execution_count": 184,
   "metadata": {},
   "outputs": [],
   "source": [
    "#!/usr/bin/python\n",
    "# -*- coding: utf-8 -*-\n",
    "#coding:utf-8\n",
    "class PyplotZ():\n",
    "    import matplotlib.pyplot as plt\n",
    "    def __init__(using_jupyter=True):\n",
    "        try:\n",
    "            if using_jupyter:\n",
    "                %matplotlib inline\n",
    "                print 'Jupyter supports on'\n",
    "        except:\n",
    "            pass\n",
    "    def __utf8__(self,s):\n",
    "        if type(s) is str:\n",
    "            s = s.decode(\"utf-8\")\n",
    "        return s\n",
    "    def _get_font_property(self):\n",
    "        if hasattr(self,'zh_font'):\n",
    "            return self.zh_font\n",
    "        return None\n",
    "    def enable_chinese(self,prefer_internal=False):\n",
    "        import os\n",
    "        from matplotlib.font_manager import FontProperties\n",
    "        use_internal = prefer_internal\n",
    "        if use_internal:\n",
    "            interal_zh = '/Library/Fonts/Songti.ttc'\n",
    "            if not os.path.exists(interal_zh):\n",
    "                use_internal = False\n",
    "            else:\n",
    "                self.zh_font = FontProperties(fname = interal_zh)\n",
    "        if not use_internal:\n",
    "            import os\n",
    "            font_name = 'plot_zh.ttf'\n",
    "            font_lib = '~/Library/Fonts/'\n",
    "            font_lib = os.path.expanduser(font_lib)\n",
    "            try:\n",
    "                if not os.path.exists(font_lib + font_name):   \n",
    "                    import shutil\n",
    "                    shutil.copy2(font_name, font_lib)\n",
    "                    print 'Font installed at the first runtime'\n",
    "            except Exception as e:\n",
    "                print e\n",
    "            if os.path.exists(font_lib + font_name):\n",
    "                self.zh_font = FontProperties(fname = font_lib + font_name)\n",
    "    def default_font_size(self,default=None,auto_size=True):\n",
    "        if default is not None:\n",
    "            self.xlabel_size(default)\n",
    "            self.ylabel_size(default)\n",
    "            self.xtick_size(default)\n",
    "            self.ytick_size(default)\n",
    "            self.title_size(default * 2)\n",
    "        else:\n",
    "            shorter_inch = min(self.get_figure_inches())\n",
    "            inferred = int(shorter_inch * 3)\n",
    "            self.xlabel_size(inferred)\n",
    "            self.ylabel_size(inferred)\n",
    "            self.xtick_size(inferred)\n",
    "            self.ytick_size(inferred)\n",
    "            self.title_size(inferred * 2)\n",
    "    def get_figure_dpis(self):\n",
    "        fig = plt.gcf()\n",
    "        size = fig.get_size_inches()*fig.dpi # size in pixels\n",
    "        return size\n",
    "    def get_figure_inches(self):\n",
    "        fig = plt.gcf()\n",
    "        size = fig.get_size_inches()\n",
    "        return size\n",
    "    def set_figure_size(self,width,height):\n",
    "        plt.figure(figsize=(width,height))\n",
    "    def plot(self,*arg,**kwargs):\n",
    "        arg = [self.__utf8__(a) for a in arg]\n",
    "        kwargs = {k:self.__utf8__(v) for k,v in kwargs.iteritems()}\n",
    "        plt.plot(*arg,**kwargs)\n",
    "    def title(self,*arg,**kwargs):\n",
    "        if hasattr(self,'zh_font'):\n",
    "            if self.zh_font is not None:\n",
    "                kwargs['fontproperties'] = self.zh_font\n",
    "                arg = [self.__utf8__(a) for a in arg]\n",
    "        plt.title(*arg,**kwargs)\n",
    "    def text(self,*arg,**kwargs):\n",
    "        if hasattr(self,'zh_font'):\n",
    "            if self.zh_font is not None:\n",
    "                kwargs['fontproperties'] = self.zh_font\n",
    "                arg = [self.__utf8__(a) for a in arg]\n",
    "        plt.text(*arg,**kwargs)\n",
    "    def title_size(self,font_size):\n",
    "        ax = plt.gca()\n",
    "        ax.title.set_size(font_size)\n",
    "    def xlabel_size(self,font_size):\n",
    "        ax = plt.gca()\n",
    "        ax.xaxis.label.set_size(font_size)\n",
    "    def ylabel_size(self,font_size):\n",
    "        ax = plt.gca()\n",
    "        ax.yaxis.label.set_size(font_size)\n",
    "    def xtick_size(self,font_size):\n",
    "        ax = plt.gca()\n",
    "        for label in (ax.get_xticklabels()):\n",
    "            label.set_fontsize(int(font_size)) # Size here overrides font_prop\n",
    "    def ytick_size(self,font_size):\n",
    "        ax = plt.gca()\n",
    "        for label in (ax.get_yticklabels()):\n",
    "            label.set_fontsize(int(font_size)) # Size here overrides font_prop\n",
    "    def xlabel(self,*arg,**kwargs):\n",
    "        if hasattr(self,'zh_font'):\n",
    "            if self.zh_font is not None:\n",
    "                kwargs['fontproperties'] = self.zh_font\n",
    "                arg = [self.__utf8__(a) for a in arg]\n",
    "        plt.xlabel(*arg,**kwargs)\n",
    "    def ylabel(self,*arg,**kwargs):\n",
    "        if hasattr(self,'zh_font'):\n",
    "            if self.zh_font is not None:\n",
    "                kwargs['fontproperties'] = self.zh_font\n",
    "                arg = [self.__utf8__(a) for a in arg]\n",
    "        plt.ylabel(*arg,**kwargs)\n",
    "    def xticks(self,*arg,**kwargs):\n",
    "        if hasattr(self,'zh_font'):\n",
    "            if self.zh_font is not None:\n",
    "                kwargs['fontproperties'] = self.zh_font\n",
    "                arg = [self.__utf8__(a) for a in arg]\n",
    "        plt.xticks(*arg,**kwargs)\n",
    "        if font_size is not None:\n",
    "            ax = plt.gca()\n",
    "            for label in (ax.get_xticklabels()):\n",
    "                label.set_fontsize(int(font_size)) # Size here overrides font_prop\n",
    "    def yticks(self,*arg,**kwargs):\n",
    "        if hasattr(self,'zh_font'):\n",
    "            if self.zh_font is not None:\n",
    "                kwargs['fontproperties'] = self.zh_font\n",
    "                arg = [self.__utf8__(a) for a in arg]\n",
    "        plt.yticks(*arg,**kwargs)\n",
    "        if fontsize is not None:\n",
    "            ax = plt.gca()\n",
    "            for label in (ax.get_yticklabels()):\n",
    "                label.set_fontsize(int(font_size)) # Size here overrides font_prop\n",
    "    def legend(self,*arg,**kwargs):\n",
    "        if hasattr(self,'zh_font'):\n",
    "            kwargs['prop'] = self.zh_font\n",
    "        plt.legend(*arg,**kwargs)\n",
    "    def show(self,*args,**kw):\n",
    "        plt.show(*args,**kw)\n",
    "    #~/Library/Fonts/"
   ]
  },
  {
   "cell_type": "code",
   "execution_count": 109,
   "metadata": {},
   "outputs": [
    {
     "data": {
      "text/plain": [
       "<matplotlib.font_manager.FontProperties at 0x10c859690>"
      ]
     },
     "execution_count": 109,
     "metadata": {},
     "output_type": "execute_result"
    }
   ],
   "source": [
    "pltz._get_font_property()"
   ]
  },
  {
   "cell_type": "code",
   "execution_count": 167,
   "metadata": {},
   "outputs": [
    {
     "name": "stdout",
     "output_type": "stream",
     "text": [
      "Jupyter supports on\n"
     ]
    }
   ],
   "source": []
  },
  {
   "cell_type": "code",
   "execution_count": 89,
   "metadata": {
    "collapsed": true
   },
   "outputs": [],
   "source": [
    "import matplotlib.pyplot as plt\n",
    "\n",
    "SMALL_SIZE = 8\n",
    "MEDIUM_SIZE = 10\n",
    "BIGGER_SIZE = 12\n",
    "\n",
    "plt.rc('font', size=SMALL_SIZE)          # controls default text sizes\n",
    "plt.rc('axes', titlesize=SMALL_SIZE)     # fontsize of the axes title\n",
    "plt.rc('axes', labelsize=MEDIUM_SIZE)    # fontsize of the x and y labels\n",
    "plt.rc('xtick', labelsize=SMALL_SIZE)    # fontsize of the tick labels\n",
    "plt.rc('ytick', labelsize=SMALL_SIZE)    # fontsize of the tick labels\n",
    "plt.rc('legend', fontsize=SMALL_SIZE)    # legend fontsize\n",
    "plt.rc('figure', titlesize=BIGGER_SIZE)  # fontsize of the figure title"
   ]
  },
  {
   "cell_type": "code",
   "execution_count": 185,
   "metadata": {},
   "outputs": [
    {
     "name": "stdout",
     "output_type": "stream",
     "text": [
      "Jupyter supports on\n"
     ]
    },
    {
     "data": {
      "text/plain": [
       "<matplotlib.figure.Figure at 0x10c313410>"
      ]
     },
     "metadata": {},
     "output_type": "display_data"
    },
    {
     "data": {
      "image/png": "[encoded data removed]",
      "text/plain": [
       "<matplotlib.figure.Figure at 0x10cc47090>"
      ]
     },
     "metadata": {},
     "output_type": "display_data"
    }
   ],
   "source": [
    "pltz = PyplotZ()\n",
    "pltz.enable_chinese()\n",
    "plt.figure(dpi=100)\n",
    "pltz.set_figure_size(7,3)\n",
    "plt.plot(range(10),range(20,30),label=u\"大\")\n",
    "pltz.title(\"中文\")\n",
    "pltz.xlabel(\"横坐标\")\n",
    "pltz.ylabel(\"纵坐标\")\n",
    "pltz.default_font_size()\n",
    "plt.grid()\n",
    "pltz.legend()\n",
    "fig = plt.gcf()\n",
    "size = fig.get_size_inches()"
   ]
  },
  {
   "cell_type": "code",
   "execution_count": 103,
   "metadata": {},
   "outputs": [
    {
     "data": {
      "text/plain": [
       "<matplotlib.axis.XAxis at 0x10c8da150>"
      ]
     },
     "execution_count": 103,
     "metadata": {},
     "output_type": "execute_result"
    }
   ],
   "source": [
    "ax.get_xaxis()"
   ]
  },
  {
   "cell_type": "code",
   "execution_count": null,
   "metadata": {
    "collapsed": true
   },
   "outputs": [],
   "source": [
    "pltz.plot"
   ]
  },
  {
   "cell_type": "code",
   "execution_count": 20,
   "metadata": {
    "collapsed": true
   },
   "outputs": [],
   "source": [
    "import matplotlib"
   ]
  },
  {
   "cell_type": "code",
   "execution_count": 21,
   "metadata": {},
   "outputs": [
    {
     "data": {
      "text/plain": [
       "module"
      ]
     },
     "execution_count": 21,
     "metadata": {},
     "output_type": "execute_result"
    }
   ],
   "source": [
    "type(matplotlib)"
   ]
  },
  {
   "cell_type": "code",
   "execution_count": null,
   "metadata": {
    "collapsed": true
   },
   "outputs": [],
   "source": [
    "def enable_chinese():\n",
    "    import os\n",
    "    font_name = 'plot_zh.ttf'\n",
    "    font_lib = '~/Library/Fonts/'\n",
    "    try:\n",
    "        from matplotlib.font_manager import FontProperties\n",
    "        if not os.path.exists(font_lib + font_name):   \n",
    "            import shutil\n",
    "            shutil.copy2('font', font_lib + font_name)\n",
    "        print 'Font installed'\n",
    "    except Exception as e:\n",
    "        print e\n",
    "    if os.path.exists(font_lib + font_name):\n",
    "        zh_font = FontProperties(fname = font_lib + font_name)\n",
    "        \n",
    "    #~/Library/Fonts/"
   ]
  },
  {
   "cell_type": "code",
   "execution_count": 9,
   "metadata": {
    "collapsed": true
   },
   "outputs": [],
   "source": [
    "%matplotlib inline"
   ]
  },
  {
   "cell_type": "code",
   "execution_count": 12,
   "metadata": {},
   "outputs": [
    {
     "data": {
      "text/plain": [
       "<matplotlib.text.Text at 0x10c354ad0>"
      ]
     },
     "execution_count": 12,
     "metadata": {},
     "output_type": "execute_result"
    },
    {
     "data": {
      "image/png": "[encoded data removed]",
      "text/plain": [
       "<matplotlib.figure.Figure at 0x10c3a4410>"
      ]
     },
     "metadata": {},
     "output_type": "display_data"
    }
   ],
   "source": [
    "plt.plot(range(10),range(5,15))\n",
    "plt.title(u\"中文\")"
   ]
  },
  {
   "cell_type": "code",
   "execution_count": 1,
   "metadata": {},
   "outputs": [
    {
     "name": "stdout",
     "output_type": "stream",
     "text": [
      "哈哈\n"
     ]
    }
   ],
   "source": [
    "print u'哈哈'.encode('utf-8')"
   ]
  },
  {
   "cell_type": "code",
   "execution_count": 2,
   "metadata": {},
   "outputs": [
    {
     "name": "stdout",
     "output_type": "stream",
     "text": [
      "哈哈\n"
     ]
    }
   ],
   "source": [
    "print '哈哈'"
   ]
  },
  {
   "cell_type": "code",
   "execution_count": 3,
   "metadata": {
    "collapsed": true
   },
   "outputs": [],
   "source": [
    "m = {}\n",
    "m['哈哈'] = 1"
   ]
  },
  {
   "cell_type": "code",
   "execution_count": 4,
   "metadata": {},
   "outputs": [],
   "source": [
    "cod = m.keys()[0]"
   ]
  },
  {
   "cell_type": "code",
   "execution_count": 5,
   "metadata": {},
   "outputs": [
    {
     "data": {
      "text/plain": [
       "True"
      ]
     },
     "execution_count": 5,
     "metadata": {},
     "output_type": "execute_result"
    }
   ],
   "source": [
    "cod == '哈哈'"
   ]
  },
  {
   "cell_type": "code",
   "execution_count": 6,
   "metadata": {},
   "outputs": [
    {
     "data": {
      "text/plain": [
       "1"
      ]
     },
     "execution_count": 6,
     "metadata": {},
     "output_type": "execute_result"
    }
   ],
   "source": [
    "m['哈哈']"
   ]
  },
  {
   "cell_type": "code",
   "execution_count": 13,
   "metadata": {},
   "outputs": [
    {
     "data": {
      "text/plain": [
       "u'\\u54c8\\u54c8'"
      ]
     },
     "execution_count": 13,
     "metadata": {},
     "output_type": "execute_result"
    }
   ],
   "source": [
    "cod.decode('utf-8')"
   ]
  },
  {
   "cell_type": "code",
   "execution_count": 14,
   "metadata": {},
   "outputs": [
    {
     "data": {
      "text/plain": [
       "6"
      ]
     },
     "execution_count": 14,
     "metadata": {},
     "output_type": "execute_result"
    }
   ],
   "source": [
    "len(cod)"
   ]
  },
  {
   "cell_type": "code",
   "execution_count": 15,
   "metadata": {},
   "outputs": [
    {
     "data": {
      "text/plain": [
       "6"
      ]
     },
     "execution_count": 15,
     "metadata": {},
     "output_type": "execute_result"
    }
   ],
   "source": [
    "len('哈哈')"
   ]
  },
  {
   "cell_type": "code",
   "execution_count": 1,
   "metadata": {
    "collapsed": true
   },
   "outputs": [],
   "source": [
    "from pyplotz.pyplotz import PyplotZ"
   ]
  },
  {
   "cell_type": "code",
   "execution_count": 2,
   "metadata": {
    "collapsed": true
   },
   "outputs": [],
   "source": [
    "%matplotlib inline"
   ]
  },
  {
   "cell_type": "code",
   "execution_count": 3,
   "metadata": {
    "collapsed": true
   },
   "outputs": [],
   "source": [
    "pltz = PyplotZ()"
   ]
  },
  {
   "cell_type": "code",
   "execution_count": 4,
   "metadata": {
    "collapsed": true
   },
   "outputs": [],
   "source": [
    "import matplotlib.pyplot as plt"
   ]
  },
  {
   "cell_type": "code",
   "execution_count": 5,
   "metadata": {
    "collapsed": true
   },
   "outputs": [],
   "source": [
    "import numpy as np"
   ]
  },
  {
   "cell_type": "code",
   "execution_count": 7,
   "metadata": {},
   "outputs": [
    {
     "data": {
      "text/plain": [
       "<matplotlib.legend.Legend at 0x10f92ed90>"
      ]
     },
     "execution_count": 7,
     "metadata": {},
     "output_type": "execute_result"
    },
    {
     "data": {
      "image/png": "[encoded data removed]",
      "text/plain": [
       "<matplotlib.figure.Figure at 0x1191a5d50>"
      ]
     },
     "metadata": {},
     "output_type": "display_data"
    }
   ],
   "source": [
    "pltz.default_font_size()\n",
    "pltz.enable_chinese()\n",
    "pltz.plot(np.linspace(-10,10),np.sin(np.linspace(-10,10)),'b', label=u'数据',alpha=0.7)\n",
    "pltz.plot(np.linspace(-10,10),np.cos(np.linspace(-10,10)),'r', label='cos数据',alpha=0.7)\n",
    "pltz.title(\"数据图\")\n",
    "pltz.xlabel(\"横坐标\")\n",
    "pltz.ylabel(\"纵坐标\")\n",
    "plt.grid()\n",
    "plt.legend()"
   ]
  }
 ],
 "metadata": {
  "kernelspec": {
   "display_name": "Python 2",
   "language": "python",
   "name": "python2"
  },
  "language_info": {
   "codemirror_mode": {
    "name": "ipython",
    "version": 2
   },
   "file_extension": ".py",
   "mimetype": "text/x-python",
   "name": "python",
   "nbconvert_exporter": "python",
   "pygments_lexer": "ipython2",
   "version": "2.7.13"
  }
 },
 "nbformat": 4,
 "nbformat_minor": 2
}
