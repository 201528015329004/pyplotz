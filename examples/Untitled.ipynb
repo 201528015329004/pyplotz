{
 "cells": [
  {
   "cell_type": "code",
   "execution_count": 2,
   "metadata": {
    "collapsed": true
   },
   "outputs": [],
   "source": [
    "from pyplotz.pyplotz import PyplotZ\n",
    "import pandas as pd"
   ]
  },
  {
   "cell_type": "code",
   "execution_count": 19,
   "metadata": {
    "collapsed": true
   },
   "outputs": [],
   "source": [
    "import numpy as np"
   ]
  },
  {
   "cell_type": "code",
   "execution_count": 4,
   "metadata": {},
   "outputs": [],
   "source": [
    "df = pd.read_excel(\"example data/example_df.xlsx\")"
   ]
  },
  {
   "cell_type": "code",
   "execution_count": 5,
   "metadata": {},
   "outputs": [
    {
     "data": {
      "text/html": [
       "<div>\n",
       "<style>\n",
       "    .dataframe thead tr:only-child th {\n",
       "        text-align: right;\n",
       "    }\n",
       "\n",
       "    .dataframe thead th {\n",
       "        text-align: left;\n",
       "    }\n",
       "\n",
       "    .dataframe tbody tr th {\n",
       "        vertical-align: top;\n",
       "    }\n",
       "</style>\n",
       "<table border=\"1\" class=\"dataframe\">\n",
       "  <thead>\n",
       "    <tr style=\"text-align: right;\">\n",
       "      <th></th>\n",
       "      <th>数据1</th>\n",
       "      <th>数据2</th>\n",
       "      <th>数据3</th>\n",
       "      <th>数据4</th>\n",
       "      <th>数据5</th>\n",
       "      <th>数据6</th>\n",
       "      <th>数据7</th>\n",
       "      <th>数据8</th>\n",
       "      <th>数据9</th>\n",
       "      <th>数据10</th>\n",
       "      <th>...</th>\n",
       "      <th>数据13</th>\n",
       "      <th>数据14</th>\n",
       "      <th>数据15</th>\n",
       "      <th>数据16</th>\n",
       "      <th>数据17</th>\n",
       "      <th>数据18</th>\n",
       "      <th>数据19</th>\n",
       "      <th>数据20</th>\n",
       "      <th>数据21</th>\n",
       "      <th>数据22</th>\n",
       "    </tr>\n",
       "  </thead>\n",
       "  <tbody>\n",
       "    <tr>\n",
       "      <th>1990</th>\n",
       "      <td>755.77000</td>\n",
       "      <td>4240.700000</td>\n",
       "      <td>1794.230000</td>\n",
       "      <td>463.750000</td>\n",
       "      <td>1982.720000</td>\n",
       "      <td>1001.380000</td>\n",
       "      <td>912.400000</td>\n",
       "      <td>1334.460000</td>\n",
       "      <td>253.190000</td>\n",
       "      <td>124.620000</td>\n",
       "      <td>...</td>\n",
       "      <td>31.460000</td>\n",
       "      <td>NaN</td>\n",
       "      <td>31.460000</td>\n",
       "      <td>5097.980000</td>\n",
       "      <td>22.940000</td>\n",
       "      <td>0.41000</td>\n",
       "      <td>3248.240000</td>\n",
       "      <td>421.680000</td>\n",
       "      <td>37.160000</td>\n",
       "      <td>5121.330000</td>\n",
       "    </tr>\n",
       "    <tr>\n",
       "      <th>2000</th>\n",
       "      <td>1494.78000</td>\n",
       "      <td>3735.690000</td>\n",
       "      <td>1660.860000</td>\n",
       "      <td>384.840000</td>\n",
       "      <td>1689.990000</td>\n",
       "      <td>931.070000</td>\n",
       "      <td>868.540000</td>\n",
       "      <td>1227.580000</td>\n",
       "      <td>218.520000</td>\n",
       "      <td>121.090000</td>\n",
       "      <td>...</td>\n",
       "      <td>36.310000</td>\n",
       "      <td>0.670000</td>\n",
       "      <td>36.980000</td>\n",
       "      <td>5074.730000</td>\n",
       "      <td>22.940000</td>\n",
       "      <td>NaN</td>\n",
       "      <td>3027.190000</td>\n",
       "      <td>428.860000</td>\n",
       "      <td>42.680000</td>\n",
       "      <td>5097.670000</td>\n",
       "    </tr>\n",
       "    <tr>\n",
       "      <th>2010</th>\n",
       "      <td>2223.40000</td>\n",
       "      <td>3418.320000</td>\n",
       "      <td>1559.870000</td>\n",
       "      <td>363.810000</td>\n",
       "      <td>1494.640000</td>\n",
       "      <td>602.600000</td>\n",
       "      <td>846.710000</td>\n",
       "      <td>1140.820000</td>\n",
       "      <td>194.930000</td>\n",
       "      <td>165.850000</td>\n",
       "      <td>...</td>\n",
       "      <td>42.700000</td>\n",
       "      <td>1.240000</td>\n",
       "      <td>43.940000</td>\n",
       "      <td>5038.790000</td>\n",
       "      <td>22.940000</td>\n",
       "      <td>16.57000</td>\n",
       "      <td>2590.130000</td>\n",
       "      <td>463.110000</td>\n",
       "      <td>57.190000</td>\n",
       "      <td>5078.300000</td>\n",
       "    </tr>\n",
       "    <tr>\n",
       "      <th>2016</th>\n",
       "      <td>2662.25395</td>\n",
       "      <td>2920.433588</td>\n",
       "      <td>1293.772584</td>\n",
       "      <td>368.472854</td>\n",
       "      <td>1258.188151</td>\n",
       "      <td>493.729273</td>\n",
       "      <td>666.948855</td>\n",
       "      <td>1249.204449</td>\n",
       "      <td>524.125007</td>\n",
       "      <td>200.409279</td>\n",
       "      <td>...</td>\n",
       "      <td>54.665679</td>\n",
       "      <td>1.226852</td>\n",
       "      <td>55.892531</td>\n",
       "      <td>4973.941923</td>\n",
       "      <td>22.942782</td>\n",
       "      <td>35.47771</td>\n",
       "      <td>2409.882577</td>\n",
       "      <td>739.543051</td>\n",
       "      <td>82.507461</td>\n",
       "      <td>5032.362415</td>\n",
       "    </tr>\n",
       "  </tbody>\n",
       "</table>\n",
       "<p>4 rows × 22 columns</p>\n",
       "</div>"
      ],
      "text/plain": [
       "             数据1          数据2          数据3         数据4          数据5  \\\n",
       "1990   755.77000  4240.700000  1794.230000  463.750000  1982.720000   \n",
       "2000  1494.78000  3735.690000  1660.860000  384.840000  1689.990000   \n",
       "2010  2223.40000  3418.320000  1559.870000  363.810000  1494.640000   \n",
       "2016  2662.25395  2920.433588  1293.772584  368.472854  1258.188151   \n",
       "\n",
       "              数据6         数据7          数据8         数据9        数据10  \\\n",
       "1990  1001.380000  912.400000  1334.460000  253.190000  124.620000   \n",
       "2000   931.070000  868.540000  1227.580000  218.520000  121.090000   \n",
       "2010   602.600000  846.710000  1140.820000  194.930000  165.850000   \n",
       "2016   493.729273  666.948855  1249.204449  524.125007  200.409279   \n",
       "\n",
       "         ...            数据13      数据14       数据15         数据16       数据17  \\\n",
       "1990     ...       31.460000       NaN  31.460000  5097.980000  22.940000   \n",
       "2000     ...       36.310000  0.670000  36.980000  5074.730000  22.940000   \n",
       "2010     ...       42.700000  1.240000  43.940000  5038.790000  22.940000   \n",
       "2016     ...       54.665679  1.226852  55.892531  4973.941923  22.942782   \n",
       "\n",
       "          数据18         数据19        数据20       数据21         数据22  \n",
       "1990   0.41000  3248.240000  421.680000  37.160000  5121.330000  \n",
       "2000       NaN  3027.190000  428.860000  42.680000  5097.670000  \n",
       "2010  16.57000  2590.130000  463.110000  57.190000  5078.300000  \n",
       "2016  35.47771  2409.882577  739.543051  82.507461  5032.362415  \n",
       "\n",
       "[4 rows x 22 columns]"
      ]
     },
     "execution_count": 5,
     "metadata": {},
     "output_type": "execute_result"
    }
   ],
   "source": [
    "df.head()"
   ]
  },
  {
   "cell_type": "code",
   "execution_count": 40,
   "metadata": {
    "collapsed": true
   },
   "outputs": [],
   "source": [
    "df['title'] = np.array([u\"中文1\",u\"中文2\",u\"中文3\",u\"中文4\"])"
   ]
  },
  {
   "cell_type": "code",
   "execution_count": 41,
   "metadata": {
    "collapsed": true
   },
   "outputs": [],
   "source": [
    "df['active_span'] = df[u'数据2']"
   ]
  },
  {
   "cell_type": "code",
   "execution_count": 43,
   "metadata": {
    "collapsed": true
   },
   "outputs": [],
   "source": [
    "most_active_posts = df"
   ]
  },
  {
   "cell_type": "code",
   "execution_count": 8,
   "metadata": {
    "collapsed": true
   },
   "outputs": [],
   "source": []
  },
  {
   "cell_type": "code",
   "execution_count": 46,
   "metadata": {},
   "outputs": [
    {
     "data": {
      "image/png": "[encoded data removed]",
      "text/plain": [
       "<matplotlib.figure.Figure at 0x1109bcc90>"
      ]
     },
     "metadata": {},
     "output_type": "display_data"
    }
   ],
   "source": [
    "from pyplotz.pyplotz import PyplotZ\n",
    "pltz = PyplotZ()\n",
    "pltz.enable_chinese()\n",
    "most_active_posts.plot(x='title',y='active_span',kind='bar')\n",
    "pltz.xticks(np.arange(len(df.cn)),df.cn,rotation=360)\n",
    "pltz.legend()\n",
    "pltz.show()"
   ]
  },
  {
   "cell_type": "code",
   "execution_count": 34,
   "metadata": {
    "collapsed": true
   },
   "outputs": [],
   "source": [
    "import matplotlib.pyplot as plt"
   ]
  },
  {
   "cell_type": "code",
   "execution_count": 35,
   "metadata": {
    "collapsed": true
   },
   "outputs": [],
   "source": [
    "plt.xticks?"
   ]
  }
 ],
 "metadata": {
  "kernelspec": {
   "display_name": "Python 2",
   "language": "python",
   "name": "python2"
  },
  "language_info": {
   "codemirror_mode": {
    "name": "ipython",
    "version": 2
   },
   "file_extension": ".py",
   "mimetype": "text/x-python",
   "name": "python",
   "nbconvert_exporter": "python",
   "pygments_lexer": "ipython2",
   "version": "2.7.13"
  }
 },
 "nbformat": 4,
 "nbformat_minor": 2
}
